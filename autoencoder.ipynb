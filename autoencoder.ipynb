{
 "cells": [
  {
   "cell_type": "code",
   "execution_count": 15,
   "metadata": {},
   "outputs": [],
   "source": [
    "import cv2\n",
    "import numpy as np\n",
    "import matplotlib.pyplot as plt\n",
    "\n",
    "from keras.layers import Input, Dense, Conv2D, MaxPooling2D, UpSampling2D\n",
    "from keras.models import Model\n",
    "from keras import backend as K\n",
    "from keras.optimizers import Adam\n",
    "\n",
    "from sklearn.model_selection import train_test_split\n",
    "\n",
    "from tqdm import tqdm\n",
    "import os"
   ]
  },
  {
   "cell_type": "code",
   "execution_count": 16,
   "metadata": {},
   "outputs": [],
   "source": [
    "def create_model(image_shape):\n",
    "    input_img = Input(shape=image_shape)  # adapt this if using `channels_first` image data format\n",
    "\n",
    "    x = Conv2D(32, (3, 3), activation='relu', padding='same', input_shape=image_shape)(input_img)\n",
    "    x = MaxPooling2D((2, 2), padding='same')(x)\n",
    "    x = Conv2D(16, (3, 3), activation='relu', padding='same')(x)\n",
    "    x = MaxPooling2D((2, 2), padding='same')(x)\n",
    "    x = Conv2D(8, (3, 3), activation='relu', padding='same')(x)\n",
    "    encoded = MaxPooling2D((2, 2), padding='same')(x)\n",
    "\n",
    "    encoder = Model(input_img, encoded)\n",
    "    # at this point the representation is (4, 4, 8) i.e. 128-dimensional\n",
    "\n",
    "    x = Conv2D(8, (3, 3), activation='relu', padding='same')(encoded)\n",
    "    x = UpSampling2D((2, 2))(x)\n",
    "    x = Conv2D(16, (3, 3), activation='relu', padding='same')(x)\n",
    "    x = UpSampling2D((2, 2))(x)\n",
    "    x = Conv2D(32, (3, 3), activation='relu')(x)\n",
    "    x = UpSampling2D((2, 2))(x)\n",
    "    decoded = Conv2D(3, (3, 3), activation='sigmoid', padding='same')(x)\n",
    "\n",
    "    autoencoder = Model(input_img, decoded)\n",
    "    autoencoder.summary()\n",
    "    autoencoder.compile(optimizer=Adam(lr=0.001), loss='mse')\n",
    "    \n",
    "    return (autoencoder, encoder)"
   ]
  },
  {
   "cell_type": "code",
   "execution_count": 3,
   "metadata": {},
   "outputs": [],
   "source": [
    "S = 10"
   ]
  },
  {
   "cell_type": "code",
   "execution_count": 4,
   "metadata": {},
   "outputs": [],
   "source": [
    "def load_data(path='data', w=20):\n",
    "    data = []\n",
    "    for file in tqdm(os.listdir(path)):\n",
    "        if '.jpg' in file:\n",
    "            img_cv = cv2.imread(os.path.join(path, file))\n",
    "            img = img_cv[:, :, ::-1]\n",
    "            W = img.shape[0] // w\n",
    "            H = img.shape[1] // w\n",
    "            for i in range(W):\n",
    "                for j in range(H):\n",
    "                    data.append(img[w * i: w * (i + 1), w * j: w * (j + 1), :])\n",
    "    return np.array(data)"
   ]
  },
  {
   "cell_type": "code",
   "execution_count": 10,
   "metadata": {},
   "outputs": [
    {
     "name": "stderr",
     "output_type": "stream",
     "text": [
      "100%|██████████| 480/480 [00:00<00:00, 1125.44it/s]\n"
     ]
    }
   ],
   "source": [
    "all_data = load_data().astype('float32') / 255."
   ]
  },
  {
   "cell_type": "code",
   "execution_count": 12,
   "metadata": {},
   "outputs": [],
   "source": [
    "X_train, X_test, y_train, y_test = train_test_split(all_data, all_data, test_size=0.2)"
   ]
  },
  {
   "cell_type": "code",
   "execution_count": 13,
   "metadata": {},
   "outputs": [
    {
     "data": {
      "text/plain": [
       "<matplotlib.image.AxesImage at 0x7f9e6b3ca400>"
      ]
     },
     "execution_count": 13,
     "metadata": {},
     "output_type": "execute_result"
    },
    {
     "data": {
      "image/png": "[encoded data removed]",
      "text/plain": [
       "<Figure size 432x288 with 1 Axes>"
      ]
     },
     "metadata": {
      "needs_background": "light"
     },
     "output_type": "display_data"
    }
   ],
   "source": [
    "plt.imshow(X_train[0])"
   ]
  },
  {
   "cell_type": "code",
   "execution_count": 17,
   "metadata": {},
   "outputs": [
    {
     "name": "stdout",
     "output_type": "stream",
     "text": [
      "_________________________________________________________________\n",
      "Layer (type)                 Output Shape              Param #   \n",
      "=================================================================\n",
      "input_2 (InputLayer)         (None, 20, 20, 3)         0         \n",
      "_________________________________________________________________\n",
      "conv2d_8 (Conv2D)            (None, 20, 20, 32)        896       \n",
      "_________________________________________________________________\n",
      "max_pooling2d_4 (MaxPooling2 (None, 10, 10, 32)        0         \n",
      "_________________________________________________________________\n",
      "conv2d_9 (Conv2D)            (None, 10, 10, 16)        4624      \n",
      "_________________________________________________________________\n",
      "max_pooling2d_5 (MaxPooling2 (None, 5, 5, 16)          0         \n",
      "_________________________________________________________________\n",
      "conv2d_10 (Conv2D)           (None, 5, 5, 8)           1160      \n",
      "_________________________________________________________________\n",
      "max_pooling2d_6 (MaxPooling2 (None, 3, 3, 8)           0         \n",
      "_________________________________________________________________\n",
      "conv2d_11 (Conv2D)           (None, 3, 3, 8)           584       \n",
      "_________________________________________________________________\n",
      "up_sampling2d_4 (UpSampling2 (None, 6, 6, 8)           0         \n",
      "_________________________________________________________________\n",
      "conv2d_12 (Conv2D)           (None, 6, 6, 16)          1168      \n",
      "_________________________________________________________________\n",
      "up_sampling2d_5 (UpSampling2 (None, 12, 12, 16)        0         \n",
      "_________________________________________________________________\n",
      "conv2d_13 (Conv2D)           (None, 10, 10, 32)        4640      \n",
      "_________________________________________________________________\n",
      "up_sampling2d_6 (UpSampling2 (None, 20, 20, 32)        0         \n",
      "_________________________________________________________________\n",
      "conv2d_14 (Conv2D)           (None, 20, 20, 3)         867       \n",
      "=================================================================\n",
      "Total params: 13,939\n",
      "Trainable params: 13,939\n",
      "Non-trainable params: 0\n",
      "_________________________________________________________________\n"
     ]
    }
   ],
   "source": [
    "autoencoder, encoder = create_model((20, 20, 3))"
   ]
  },
  {
   "cell_type": "code",
   "execution_count": 18,
   "metadata": {},
   "outputs": [
    {
     "name": "stdout",
     "output_type": "stream",
     "text": [
      "Train on 38400 samples, validate on 9600 samples\n",
      "Epoch 1/50\n",
      "38400/38400 [==============================] - 18s 465us/step - loss: 0.0111 - val_loss: 0.0069\n",
      "Epoch 2/50\n",
      "38400/38400 [==============================] - 24s 627us/step - loss: 0.0063 - val_loss: 0.0058\n",
      "Epoch 3/50\n",
      "38400/38400 [==============================] - 16s 424us/step - loss: 0.0057 - val_loss: 0.0054\n",
      "Epoch 4/50\n",
      "38400/38400 [==============================] - 16s 423us/step - loss: 0.0054 - val_loss: 0.0052\n",
      "Epoch 5/50\n",
      "38400/38400 [==============================] - 16s 424us/step - loss: 0.0051 - val_loss: 0.0050\n",
      "Epoch 6/50\n",
      "38400/38400 [==============================] - 16s 424us/step - loss: 0.0050 - val_loss: 0.0050\n",
      "Epoch 7/50\n",
      "38400/38400 [==============================] - 16s 425us/step - loss: 0.0049 - val_loss: 0.0048\n",
      "Epoch 8/50\n",
      "38400/38400 [==============================] - 16s 423us/step - loss: 0.0048 - val_loss: 0.0047\n",
      "Epoch 9/50\n",
      "38400/38400 [==============================] - 16s 422us/step - loss: 0.0047 - val_loss: 0.0046\n",
      "Epoch 10/50\n",
      "38400/38400 [==============================] - 16s 422us/step - loss: 0.0047 - val_loss: 0.0046\n",
      "Epoch 11/50\n",
      "38400/38400 [==============================] - 16s 422us/step - loss: 0.0046 - val_loss: 0.0045\n",
      "Epoch 12/50\n",
      "38400/38400 [==============================] - 16s 423us/step - loss: 0.0046 - val_loss: 0.0045\n",
      "Epoch 13/50\n",
      "38400/38400 [==============================] - 19s 491us/step - loss: 0.0045 - val_loss: 0.0044\n",
      "Epoch 14/50\n",
      "38400/38400 [==============================] - 18s 456us/step - loss: 0.0045 - val_loss: 0.0044\n",
      "Epoch 15/50\n",
      "38400/38400 [==============================] - 18s 458us/step - loss: 0.0044 - val_loss: 0.0043\n",
      "Epoch 16/50\n",
      "38400/38400 [==============================] - 18s 459us/step - loss: 0.0044 - val_loss: 0.0043\n",
      "Epoch 17/50\n",
      "38400/38400 [==============================] - 18s 462us/step - loss: 0.0043 - val_loss: 0.0044\n",
      "Epoch 18/50\n",
      "38400/38400 [==============================] - 18s 458us/step - loss: 0.0043 - val_loss: 0.0043\n",
      "Epoch 19/50\n",
      "38400/38400 [==============================] - 18s 462us/step - loss: 0.0043 - val_loss: 0.0042\n",
      "Epoch 20/50\n",
      "38400/38400 [==============================] - 18s 464us/step - loss: 0.0043 - val_loss: 0.0042\n",
      "Epoch 21/50\n",
      "38400/38400 [==============================] - 18s 464us/step - loss: 0.0042 - val_loss: 0.0042\n",
      "Epoch 22/50\n",
      "38400/38400 [==============================] - 18s 471us/step - loss: 0.0042 - val_loss: 0.0042\n",
      "Epoch 23/50\n",
      "38400/38400 [==============================] - 18s 465us/step - loss: 0.0042 - val_loss: 0.0041\n",
      "Epoch 24/50\n",
      "38400/38400 [==============================] - 15s 388us/step - loss: 0.0042 - val_loss: 0.0041\n",
      "Epoch 25/50\n",
      "38400/38400 [==============================] - 15s 388us/step - loss: 0.0042 - val_loss: 0.0044\n",
      "Epoch 26/50\n",
      "38400/38400 [==============================] - 16s 409us/step - loss: 0.0041 - val_loss: 0.0041\n",
      "Epoch 27/50\n",
      "38400/38400 [==============================] - 15s 382us/step - loss: 0.0041 - val_loss: 0.0041\n",
      "Epoch 28/50\n",
      "38400/38400 [==============================] - 17s 444us/step - loss: 0.0041 - val_loss: 0.0041\n",
      "Epoch 29/50\n",
      "38400/38400 [==============================] - 16s 425us/step - loss: 0.0041 - val_loss: 0.0041\n",
      "Epoch 30/50\n",
      "38400/38400 [==============================] - 16s 404us/step - loss: 0.0041 - val_loss: 0.0040\n",
      "Epoch 31/50\n",
      "38400/38400 [==============================] - 15s 380us/step - loss: 0.0041 - val_loss: 0.0040\n",
      "Epoch 32/50\n",
      "38400/38400 [==============================] - 15s 382us/step - loss: 0.0041 - val_loss: 0.0040\n",
      "Epoch 33/50\n",
      "38400/38400 [==============================] - 15s 380us/step - loss: 0.0040 - val_loss: 0.0040\n",
      "Epoch 34/50\n",
      "38400/38400 [==============================] - 15s 378us/step - loss: 0.0040 - val_loss: 0.0039\n",
      "Epoch 35/50\n",
      "38400/38400 [==============================] - 15s 383us/step - loss: 0.0040 - val_loss: 0.0039\n",
      "Epoch 36/50\n",
      "38400/38400 [==============================] - 15s 384us/step - loss: 0.0040 - val_loss: 0.0039\n",
      "Epoch 37/50\n",
      "38400/38400 [==============================] - 15s 380us/step - loss: 0.0040 - val_loss: 0.0039\n",
      "Epoch 38/50\n",
      "38400/38400 [==============================] - 15s 383us/step - loss: 0.0039 - val_loss: 0.0039\n",
      "Epoch 39/50\n",
      "38400/38400 [==============================] - 15s 387us/step - loss: 0.0039 - val_loss: 0.0039\n",
      "Epoch 40/50\n",
      "38400/38400 [==============================] - 15s 379us/step - loss: 0.0039 - val_loss: 0.0039\n",
      "Epoch 41/50\n",
      "38400/38400 [==============================] - 15s 379us/step - loss: 0.0039 - val_loss: 0.0039\n",
      "Epoch 42/50\n",
      "38400/38400 [==============================] - 16s 428us/step - loss: 0.0039 - val_loss: 0.0039\n",
      "Epoch 43/50\n",
      "38400/38400 [==============================] - 15s 381us/step - loss: 0.0039 - val_loss: 0.0040\n",
      "Epoch 44/50\n",
      "38400/38400 [==============================] - 15s 379us/step - loss: 0.0039 - val_loss: 0.0039\n",
      "Epoch 45/50\n",
      "38400/38400 [==============================] - 14s 377us/step - loss: 0.0039 - val_loss: 0.0038\n",
      "Epoch 46/50\n",
      "38400/38400 [==============================] - 15s 378us/step - loss: 0.0039 - val_loss: 0.0038\n",
      "Epoch 47/50\n",
      "38400/38400 [==============================] - 15s 378us/step - loss: 0.0039 - val_loss: 0.0039\n",
      "Epoch 48/50\n",
      "38400/38400 [==============================] - 18s 465us/step - loss: 0.0038 - val_loss: 0.0038\n",
      "Epoch 49/50\n",
      "38400/38400 [==============================] - 20s 518us/step - loss: 0.0038 - val_loss: 0.0038\n",
      "Epoch 50/50\n",
      "38400/38400 [==============================] - 17s 455us/step - loss: 0.0038 - val_loss: 0.0038\n"
     ]
    },
    {
     "data": {
      "text/plain": [
       "<keras.callbacks.History at 0x7f9953858518>"
      ]
     },
     "execution_count": 18,
     "metadata": {},
     "output_type": "execute_result"
    }
   ],
   "source": [
    "autoencoder.fit(X_train, y_train,\n",
    "                epochs=50,\n",
    "                batch_size=128,\n",
    "                shuffle=True,\n",
    "                validation_data=(X_test, y_test))"
   ]
  },
  {
   "cell_type": "code",
   "execution_count": 19,
   "metadata": {},
   "outputs": [],
   "source": [
    "autoencoder.save('autoencoder.h5')"
   ]
  },
  {
   "cell_type": "code",
   "execution_count": 20,
   "metadata": {},
   "outputs": [],
   "source": [
    "all_data_encoder = encoder.predict(all_data)"
   ]
  },
  {
   "cell_type": "code",
   "execution_count": 21,
   "metadata": {},
   "outputs": [
    {
     "data": {
      "text/plain": [
       "(48000, 3, 3, 8)"
      ]
     },
     "execution_count": 21,
     "metadata": {},
     "output_type": "execute_result"
    }
   ],
   "source": [
    "all_data_encoder.shape"
   ]
  },
  {
   "cell_type": "code",
   "execution_count": 23,
   "metadata": {},
   "outputs": [],
   "source": [
    "np.save('all_data_encoder.bin', all_data_encoder)"
   ]
  },
  {
   "cell_type": "code",
   "execution_count": null,
   "metadata": {},
   "outputs": [],
   "source": []
  }
 ],
 "metadata": {
  "kernelspec": {
   "display_name": "Python 3",
   "language": "python",
   "name": "python3"
  },
  "language_info": {
   "codemirror_mode": {
    "name": "ipython",
    "version": 3
   },
   "file_extension": ".py",
   "mimetype": "text/x-python",
   "name": "python",
   "nbconvert_exporter": "python",
   "pygments_lexer": "ipython3",
   "version": "3.6.8"
  }
 },
 "nbformat": 4,
 "nbformat_minor": 2
}
